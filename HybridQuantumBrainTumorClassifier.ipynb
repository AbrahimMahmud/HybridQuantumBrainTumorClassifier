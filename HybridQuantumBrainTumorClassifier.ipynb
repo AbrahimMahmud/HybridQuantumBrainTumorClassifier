{
  "cells": [
    {
      "cell_type": "code",
      "execution_count": null,
      "metadata": {
        "id": "2cUGfVf9pa27"
      },
      "outputs": [],
      "source": [
        "!unzip \"bt_dataset(1_23_23)\""
      ]
    },
    {
      "cell_type": "markdown",
      "metadata": {
        "id": "UHaXgMqw4WsK"
      },
      "source": [
        "## Load required Python libraries"
      ]
    },
    {
      "cell_type": "code",
      "execution_count": null,
      "metadata": {
        "colab": {
          "base_uri": "https://localhost:8080/"
        },
        "id": "f2nN6nT04WsK",
        "outputId": "a41d8dd9-b79c-46c8-eb9c-dfcbea7641d2"
      },
      "outputs": [
        {
          "output_type": "stream",
          "name": "stdout",
          "text": [
            "Installing libraries, this might take a while\n",
            "\u001b[2K     \u001b[90m━━━━━━━━━━━━━━━━━━━━━━━━━━━━━━━━━━━━━━━━\u001b[0m \u001b[32m1.3/1.3 MB\u001b[0m \u001b[31m45.1 MB/s\u001b[0m eta \u001b[36m0:00:00\u001b[0m\n",
            "\u001b[2K     \u001b[90m━━━━━━━━━━━━━━━━━━━━━━━━━━━━━━━━━━━━━━━━\u001b[0m \u001b[32m15.3/15.3 MB\u001b[0m \u001b[31m61.2 MB/s\u001b[0m eta \u001b[36m0:00:00\u001b[0m\n",
            "\u001b[2K     \u001b[90m━━━━━━━━━━━━━━━━━━━━━━━━━━━━━━━━━━━━━━━━\u001b[0m \u001b[32m46.4/46.4 KB\u001b[0m \u001b[31m6.5 MB/s\u001b[0m eta \u001b[36m0:00:00\u001b[0m\n",
            "\u001b[2K     \u001b[90m━━━━━━━━━━━━━━━━━━━━━━━━━━━━━━━━━━━━━━\u001b[0m \u001b[32m146.0/146.0 KB\u001b[0m \u001b[31m21.5 MB/s\u001b[0m eta \u001b[36m0:00:00\u001b[0m\n",
            "\u001b[2K     \u001b[90m━━━━━━━━━━━━━━━━━━━━━━━━━━━━━━━━━━━━━━━━\u001b[0m \u001b[32m1.9/1.9 MB\u001b[0m \u001b[31m87.9 MB/s\u001b[0m eta \u001b[36m0:00:00\u001b[0m\n",
            "\u001b[?25h  Preparing metadata (setup.py) ... \u001b[?25l\u001b[?25hdone\n",
            "\u001b[2K     \u001b[90m━━━━━━━━━━━━━━━━━━━━━━━━━━━━━━━━━━━━━━━━\u001b[0m \u001b[32m3.4/3.4 MB\u001b[0m \u001b[31m69.3 MB/s\u001b[0m eta \u001b[36m0:00:00\u001b[0m\n",
            "\u001b[2K     \u001b[90m━━━━━━━━━━━━━━━━━━━━━━━━━━━━━━━━━━━━━━\u001b[0m \u001b[32m140.6/140.6 KB\u001b[0m \u001b[31m18.9 MB/s\u001b[0m eta \u001b[36m0:00:00\u001b[0m\n",
            "\u001b[2K     \u001b[90m━━━━━━━━━━━━━━━━━━━━━━━━━━━━━━━━━━━━━━━━\u001b[0m \u001b[32m5.1/5.1 MB\u001b[0m \u001b[31m71.4 MB/s\u001b[0m eta \u001b[36m0:00:00\u001b[0m\n",
            "\u001b[2K     \u001b[90m━━━━━━━━━━━━━━━━━━━━━━━━━━━━━━━━━━━━━━\u001b[0m \u001b[32m241.3/241.3 KB\u001b[0m \u001b[31m29.3 MB/s\u001b[0m eta \u001b[36m0:00:00\u001b[0m\n",
            "\u001b[2K     \u001b[90m━━━━━━━━━━━━━━━━━━━━━━━━━━━━━━━━━━━━━━━\u001b[0m \u001b[32m12.8/12.8 MB\u001b[0m \u001b[31m102.6 MB/s\u001b[0m eta \u001b[36m0:00:00\u001b[0m\n",
            "\u001b[2K     \u001b[90m━━━━━━━━━━━━━━━━━━━━━━━━━━━━━━━━━━━━━━━━\u001b[0m \u001b[32m54.3/54.3 KB\u001b[0m \u001b[31m7.6 MB/s\u001b[0m eta \u001b[36m0:00:00\u001b[0m\n",
            "\u001b[2K     \u001b[90m━━━━━━━━━━━━━━━━━━━━━━━━━━━━━━━━━━━━━━\u001b[0m \u001b[32m107.0/107.0 KB\u001b[0m \u001b[31m14.7 MB/s\u001b[0m eta \u001b[36m0:00:00\u001b[0m\n",
            "\u001b[2K     \u001b[90m━━━━━━━━━━━━━━━━━━━━━━━━━━━━━━━━━━━━━━━━\u001b[0m \u001b[32m49.6/49.6 KB\u001b[0m \u001b[31m6.7 MB/s\u001b[0m eta \u001b[36m0:00:00\u001b[0m\n",
            "\u001b[2K     \u001b[90m━━━━━━━━━━━━━━━━━━━━━━━━━━━━━━━━━━━━━━━━\u001b[0m \u001b[32m50.0/50.0 KB\u001b[0m \u001b[31m3.8 MB/s\u001b[0m eta \u001b[36m0:00:00\u001b[0m\n",
            "\u001b[2K     \u001b[90m━━━━━━━━━━━━━━━━━━━━━━━━━━━━━━━━━━━━━━━━\u001b[0m \u001b[32m37.5/37.5 MB\u001b[0m \u001b[31m41.8 MB/s\u001b[0m eta \u001b[36m0:00:00\u001b[0m\n",
            "\u001b[2K     \u001b[90m━━━━━━━━━━━━━━━━━━━━━━━━━━━━━━━━━━━━━━━━\u001b[0m \u001b[32m4.2/4.2 MB\u001b[0m \u001b[31m113.4 MB/s\u001b[0m eta \u001b[36m0:00:00\u001b[0m\n",
            "\u001b[2K     \u001b[90m━━━━━━━━━━━━━━━━━━━━━━━━━━━━━━━━━━━━━━\u001b[0m \u001b[32m112.7/112.7 KB\u001b[0m \u001b[31m15.4 MB/s\u001b[0m eta \u001b[36m0:00:00\u001b[0m\n",
            "\u001b[?25h  Building wheel for qiskit (setup.py) ... \u001b[?25l\u001b[?25hdone\n",
            "Building Simulator, this might take a while\n",
            "Looking in indexes: https://pypi.org/simple, https://us-python.pkg.dev/colab-wheels/public/simple/\n",
            "Collecting pybind11\n",
            "  Downloading pybind11-2.10.3-py3-none-any.whl (222 kB)\n",
            "\u001b[2K     \u001b[90m━━━━━━━━━━━━━━━━━━━━━━━━━━━━━━━━━━━━━━\u001b[0m \u001b[32m222.4/222.4 KB\u001b[0m \u001b[31m18.0 MB/s\u001b[0m eta \u001b[36m0:00:00\u001b[0m\n",
            "\u001b[?25hInstalling collected packages: pybind11\n",
            "Successfully installed pybind11-2.10.3\n",
            "Looking in indexes: https://pypi.org/simple, https://us-python.pkg.dev/colab-wheels/public/simple/\n",
            "Requirement already satisfied: pennylane-lightning in /usr/local/lib/python3.8/dist-packages (0.28.2)\n",
            "Requirement already satisfied: pennylane>=0.28 in /usr/local/lib/python3.8/dist-packages (from pennylane-lightning) (0.28.0)\n",
            "Requirement already satisfied: numpy in /usr/local/lib/python3.8/dist-packages (from pennylane-lightning) (1.21.6)\n",
            "Requirement already satisfied: ninja in /usr/local/lib/python3.8/dist-packages (from pennylane-lightning) (1.11.1)\n",
            "Requirement already satisfied: networkx in /usr/local/lib/python3.8/dist-packages (from pennylane>=0.28->pennylane-lightning) (3.0)\n",
            "Requirement already satisfied: scipy in /usr/local/lib/python3.8/dist-packages (from pennylane>=0.28->pennylane-lightning) (1.7.3)\n",
            "Requirement already satisfied: toml in /usr/local/lib/python3.8/dist-packages (from pennylane>=0.28->pennylane-lightning) (0.10.2)\n",
            "Requirement already satisfied: appdirs in /usr/local/lib/python3.8/dist-packages (from pennylane>=0.28->pennylane-lightning) (1.4.4)\n",
            "Requirement already satisfied: cachetools in /usr/local/lib/python3.8/dist-packages (from pennylane>=0.28->pennylane-lightning) (5.3.0)\n",
            "Requirement already satisfied: retworkx in /usr/local/lib/python3.8/dist-packages (from pennylane>=0.28->pennylane-lightning) (0.12.1)\n",
            "Requirement already satisfied: autoray>=0.3.1 in /usr/local/lib/python3.8/dist-packages (from pennylane>=0.28->pennylane-lightning) (0.6.0)\n",
            "Requirement already satisfied: requests in /usr/local/lib/python3.8/dist-packages (from pennylane>=0.28->pennylane-lightning) (2.25.1)\n",
            "Requirement already satisfied: autograd in /usr/local/lib/python3.8/dist-packages (from pennylane>=0.28->pennylane-lightning) (1.5)\n",
            "Requirement already satisfied: semantic-version>=2.7 in /usr/local/lib/python3.8/dist-packages (from pennylane>=0.28->pennylane-lightning) (2.10.0)\n",
            "Requirement already satisfied: future>=0.15.2 in /usr/local/lib/python3.8/dist-packages (from autograd->pennylane>=0.28->pennylane-lightning) (0.16.0)\n",
            "Requirement already satisfied: certifi>=2017.4.17 in /usr/local/lib/python3.8/dist-packages (from requests->pennylane>=0.28->pennylane-lightning) (2022.12.7)\n",
            "Requirement already satisfied: idna<3,>=2.5 in /usr/local/lib/python3.8/dist-packages (from requests->pennylane>=0.28->pennylane-lightning) (2.10)\n",
            "Requirement already satisfied: urllib3<1.27,>=1.21.1 in /usr/local/lib/python3.8/dist-packages (from requests->pennylane>=0.28->pennylane-lightning) (1.24.3)\n",
            "Requirement already satisfied: chardet<5,>=3.0.2 in /usr/local/lib/python3.8/dist-packages (from requests->pennylane>=0.28->pennylane-lightning) (4.0.0)\n",
            "Requirement already satisfied: rustworkx==0.12.1 in /usr/local/lib/python3.8/dist-packages (from retworkx->pennylane>=0.28->pennylane-lightning) (0.12.1)\n"
          ]
        }
      ],
      "source": [
        "print(\"Installing libraries, this might take a while\")\n",
        "\n",
        "!pip3 install -q torch\n",
        "!pip3 install -q pennylane\n",
        "!pip3 install -q matplotlib\n",
        "!pip3 install -q torchvision\n",
        "!pip3 install -q prettytable\n",
        "!pip3 install -q pennylane-qiskit\n",
        "\n",
        "print(\"Building Simulator, this might take a while\")\n",
        "\n",
        "!pip3 install pybind11 \n",
        "!pip3 install pennylane-lightning --no-binary :all: \n",
        "        \n",
        "# System\n",
        "import time\n",
        "import os, platform, sys\n",
        "import copy\n",
        "from datetime import datetime\n",
        "\n",
        "# PyTorch\n",
        "import torch\n",
        "import torch.nn as nn\n",
        "import torch.optim as optim\n",
        "from torch.optim import lr_scheduler\n",
        "import torchvision\n",
        "from torchvision import datasets, transforms\n",
        "\n",
        "# Pennylane\n",
        "import pennylane as qml\n",
        "from pennylane import numpy as np\n",
        "from pennylane_qiskit import AerDevice\n",
        "\n",
        "# Plotting\n",
        "import matplotlib.pyplot as plt"
      ]
    },
    {
      "cell_type": "code",
      "execution_count": null,
      "metadata": {
        "colab": {
          "base_uri": "https://localhost:8080/"
        },
        "id": "0C1oUApy4WsL",
        "outputId": "8301bda5-b221-4902-826d-c7b67ac4ef97"
      },
      "outputs": [
        {
          "output_type": "stream",
          "name": "stdout",
          "text": [
            "[Python version]: 3.8.10 (default, Nov 14 2022, 12:59:47) \n",
            "[GCC 9.4.0]\n",
            "[Deep Learning framework, Pytorch (Facebook) version]: 1.13.1+cu116\n",
            "[Quantum Machine Learning framework (Pennylane) version]: 0.28.0\n"
          ]
        }
      ],
      "source": [
        "print(\"[Python version]:\", sys.version)\n",
        "print(\"[Deep Learning framework, Pytorch (Facebook) version]:\", torch.__version__)\n",
        "print(\"[Quantum Machine Learning framework (Pennylane) version]:\", qml.__version__)"
      ]
    },
    {
      "cell_type": "markdown",
      "metadata": {
        "id": "CTHEjt9L4WsM"
      },
      "source": [
        "## Set Parameters"
      ]
    },
    {
      "cell_type": "code",
      "execution_count": null,
      "metadata": {
        "id": "vJBTwD4Q4WsM"
      },
      "outputs": [],
      "source": [
        "dataset_dir = \"/content/brain_tumor_dataset\"\n",
        "\n",
        "num_epochs = 70                     # Number of training epochs (ALTER IF TREND CONTINUES)\n",
        "n_qubits = 8                        # Number of qubits (DO NOT CHANGE)\n",
        "step = 0.001                        # Learning rate (DO NOT CHANGE)\n",
        "batch_size = 16                     # Number of samples for each training step (16 BEST RESULT SO FAR : 90.5 ACCURACY) (DO NOT CHANGE)\n",
        "q_depth = 4                         # Depth of the quantum circuit (number of variational layers) (DO NOT CHANGE)\n",
        "gamma_lr_scheduler = 0.2            # Learning rate reduction applied every x epochs. (DO NOT CHANGE)\n",
        "q_delta = 0.001                     # Initial spread of random quantum weights (DO NOT CHANGE)\n",
        "rng_seed = 42                       # Seed for random number generator (DO NOT CHANGE)\n",
        "start_time = time.time()            # Start of the computation timer\n",
        "\n",
        "model_fileext = \".pth\"\n",
        "log_fileext = \".log\" "
      ]
    },
    {
      "cell_type": "markdown",
      "metadata": {
        "id": "IFUj64h14WsO"
      },
      "source": [
        "## Define Backend: Quantum Simulator"
      ]
    },
    {
      "cell_type": "code",
      "execution_count": null,
      "metadata": {
        "colab": {
          "base_uri": "https://localhost:8080/"
        },
        "id": "azztf6L-4WsO",
        "outputId": "6cc01dd4-169f-4c57-ee9f-f05ae3d261f3"
      },
      "outputs": [
        {
          "output_type": "stream",
          "name": "stdout",
          "text": [
            "=> Using Lightning Pennylane Quantum Computer Simulator (local)\n"
          ]
        }
      ],
      "source": [
        "backend_name = \"simPennylane\"\n",
        "print(\"=> Using Lightning Pennylane Quantum Computer Simulator (local)\")\n",
        "dev = qml.device(\"lightning.qubit\", wires=n_qubits)"
      ]
    },
    {
      "cell_type": "code",
      "execution_count": null,
      "metadata": {
        "id": "52J8LzUX4WsO"
      },
      "outputs": [],
      "source": [
        "now = datetime.now()\n",
        "now_str = now.strftime(\"%d%m%Y%H%M%S\")\n",
        "\n",
        "base_filename = \"abrahimmahmud_\"\n",
        "interim_model_name = base_filename + backend_name \n",
        "hybrid_model_name = base_filename + backend_name + \"(\" + str(num_epochs) + \")-\" + now_str + model_fileext\n",
        "log_filename = base_filename + backend_name + \"(\" + str(num_epochs) + \")-\" + now_str + log_fileext\n",
        "\n",
        "train_val_filename = base_filename + backend_name + \"_train_val-results\" + now_str"
      ]
    },
    {
      "cell_type": "code",
      "execution_count": null,
      "metadata": {
        "colab": {
          "base_uri": "https://localhost:8080/"
        },
        "id": "xmxHgUH94WsO",
        "outputId": "5ecfc765-9fc6-480a-c9d9-9060ca41e8a4"
      },
      "outputs": [
        {
          "output_type": "stream",
          "name": "stdout",
          "text": [
            "cuda is available, using: cuda:0\n"
          ]
        }
      ],
      "source": [
        "# USE NVidia CUDA (GPU) if available\n",
        "is_cuda_available = torch.cuda.is_available()\n",
        "device = torch.device(\"cuda:0\" if is_cuda_available else \"cpu\")\n",
        "if is_cuda_available:\n",
        "    print (\"cuda is available, using:\", device)\n",
        "else:\n",
        "    print (\"cuda is not available, using:\", device)"
      ]
    },
    {
      "cell_type": "markdown",
      "metadata": {
        "id": "N1yvkeIy4WsO"
      },
      "source": [
        "## Prepare new dataset to retrain last layer (fc-layer) of pre-trained resnet-18"
      ]
    },
    {
      "cell_type": "code",
      "execution_count": null,
      "metadata": {
        "id": "I0aQLcyi4WsP"
      },
      "outputs": [],
      "source": [
        "# initialize data loaders\n",
        "data_transforms = {\n",
        "    \"train\": transforms.Compose(\n",
        "        [\n",
        "            transforms.Resize(256),\n",
        "            transforms.CenterCrop(224),\n",
        "            transforms.ToTensor(),\n",
        "            # Normalize input channels using mean values and standard deviations of ImageNet.\n",
        "            transforms.Normalize([0.485, 0.456, 0.406], [0.229, 0.224, 0.225]),\n",
        "        ]\n",
        "    ),\n",
        "    \"val\": transforms.Compose(\n",
        "        [\n",
        "            transforms.Resize(256),\n",
        "            transforms.CenterCrop(224),\n",
        "            transforms.ToTensor(),\n",
        "            transforms.Normalize([0.485, 0.456, 0.406], [0.229, 0.224, 0.225]),\n",
        "        ]\n",
        "    ),\n",
        "}\n",
        "\n",
        "data_dir = dataset_dir\n",
        "image_datasets = {\n",
        "    x if x == \"train\" else \"val\": datasets.ImageFolder(os.path.join(data_dir, x), data_transforms[x])\n",
        "    for x in [\"train\", \"val\"]\n",
        "}\n",
        "dataset_sizes = {x: len(image_datasets[x]) for x in [\"train\", \"val\"]}\n",
        "class_names = image_datasets[\"train\"].classes\n",
        "# Initialize dataloader\n",
        "dataloaders = {\n",
        "    x: torch.utils.data.DataLoader(image_datasets[x], batch_size=batch_size, shuffle=True)\n",
        "    for x in [\"train\", \"val\"]\n",
        "}\n",
        "\n",
        "# function to plot images\n",
        "def imshow(inp, title=None):\n",
        "    \"\"\"Display image from tensor.\"\"\"\n",
        "    inp = inp.numpy().transpose((1, 2, 0))\n",
        "    # Inverse of the initial normalization operation.\n",
        "    mean = np.array([0.485, 0.456, 0.406])\n",
        "    std = np.array([0.229, 0.224, 0.225])\n",
        "    inp = std * inp + mean\n",
        "    inp = np.clip(inp, 0, 1)\n",
        "    plt.imshow(inp)\n",
        "    if title is not None:\n",
        "        plt.title(title)"
      ]
    },
    {
      "cell_type": "code",
      "execution_count": null,
      "metadata": {
        "colab": {
          "base_uri": "https://localhost:8080/",
          "height": 185
        },
        "id": "nFJ218Xe4WsP",
        "outputId": "48ba619e-dc64-4e37-cdec-7f672edfbe4a"
      },
      "outputs": [
        {
          "output_type": "stream",
          "name": "stdout",
          "text": [
            "torch.Size([16, 3, 224, 224])\n",
            "torch.Size([3, 454, 1810])\n"
          ]
        },
        {
          "output_type": "display_data",
          "data": {
            "text/plain": [
              "<Figure size 432x288 with 1 Axes>"
            ],
            "image/png": "[encoded data removed]"
          },
          "metadata": {
            "needs_background": "light"
          }
        }
      ],
      "source": [
        "# Get a batch of training data\n",
        "inputs, classes = next(iter(dataloaders[\"train\"]))\n",
        "\n",
        "print(np.shape(inputs))\n",
        "\n",
        "# Make a grid from batch\n",
        "out = torchvision.utils.make_grid(inputs)\n",
        "\n",
        "print(np.shape(out))\n",
        "\n",
        "imshow(out, title=[class_names[x] for x in classes])\n",
        "\n",
        "# In order to get reproducible results, we set a manual seed for the random number generator and re-initialize the dataloaders.\n",
        "\n",
        "torch.manual_seed(rng_seed)\n",
        "dataloaders = {\n",
        "    x: torch.utils.data.DataLoader(image_datasets[x], batch_size=batch_size, shuffle=True)\n",
        "    for x in [\"train\", \"val\"]\n",
        "}"
      ]
    },
    {
      "cell_type": "markdown",
      "metadata": {
        "id": "dlf-n2lE4WsP"
      },
      "source": [
        "## Define quantum layer to replace the fc-layer of pre-trained resnet-18"
      ]
    },
    {
      "cell_type": "markdown",
      "metadata": {
        "id": "4t6hriIw4WsP"
      },
      "source": [
        "### Variational Quantum Circuit"
      ]
    },
    {
      "cell_type": "markdown",
      "metadata": {
        "id": "xfE7Kmxw4WsP"
      },
      "source": [
        "#### Define base quantum layers\n",
        "Define quantum layers that will compose the quantum circuit\n",
        "- Hadamard (for making superposition)\n",
        "- Ry & Entanglement"
      ]
    },
    {
      "cell_type": "code",
      "execution_count": null,
      "metadata": {
        "id": "E_SWZAKN4WsQ"
      },
      "outputs": [],
      "source": [
        "# 1st - Prepare the Quantum Gates\n",
        "def H_layer(nqubits):\n",
        "    \"\"\"Layer of single-qubit Hadamard gates.\"\"\"\n",
        "    for idx in range(nqubits):\n",
        "        qml.Hadamard(wires=idx)\n",
        "        \n",
        "def RY_layer(w):\n",
        "    \"\"\"Layer of parametrized qubit rotations around the y axis.\"\"\"\n",
        "    for idx, element in enumerate(w):\n",
        "        qml.RY(element, wires=idx)\n",
        "        \n",
        "def entangling_layer(nqubits):\n",
        "    \"\"\"Layer of CNOTs followed by another shifted layer of CNOT.\"\"\"\n",
        "    # In other words it should apply something like :\n",
        "    for i in range(0, nqubits - 1, 2):  # Loop over even indices: i=0,2,...N-2\n",
        "        qml.CNOT(wires=[i, i + 1])\n",
        "    for i in range(1, nqubits - 1, 2):  # Loop over odd indices:  i=1,3,...N-3\n",
        "        qml.CNOT(wires=[i, i + 1])"
      ]
    },
    {
      "cell_type": "markdown",
      "metadata": {
        "id": "fuMjs-o44WsQ"
      },
      "source": [
        "#### Define Quantum Circuit\n",
        "Define the quantum circuit through the PennyLane qnode decorator. The structure is that of a typical variational quantum circuit:\n",
        "- Embedding layer: All qubits are first initialized in a balanced superposition of up and down states, then they are rotated according to the input parameters (local embedding).\n",
        "- Variational layers: A sequence of trainable rotation layers and constant entangling layers is applied.\n",
        "- Measurement layer: For each qubit, the local expectation value of the \n",
        "Z operator is measured. This produces a classical output vector, suitable for additional post-processing."
      ]
    },
    {
      "cell_type": "code",
      "execution_count": null,
      "metadata": {
        "id": "_kw6nFNd4WsQ"
      },
      "outputs": [],
      "source": [
        "@qml.qnode(dev, interface=\"torch\")\n",
        "def quantum_net(q_input_features, q_weights_flat):\n",
        "    \"\"\"The variational quantum circuit.\"\"\"\n",
        "    # Reshape weights\n",
        "    q_weights = q_weights_flat.reshape(q_depth, n_qubits)\n",
        "\n",
        "    # Start from state |+> , unbiased w.r.t. |0> and |1>\n",
        "    H_layer(n_qubits)\n",
        "    \n",
        "    # Embed features in the quantum node\n",
        "    RY_layer(q_input_features)\n",
        "    \n",
        "    # Sequence of trainable variational layers\n",
        "    for k in range(q_depth):\n",
        "        entangling_layer(n_qubits)\n",
        "        RY_layer(q_weights[k])\n",
        "        \n",
        "    # Expectation values in the Z basis\n",
        "    exp_vals = [qml.expval(qml.PauliZ(position)) for position in range(n_qubits)]\n",
        "    return tuple(exp_vals)"
      ]
    },
    {
      "cell_type": "markdown",
      "metadata": {
        "id": "dD_sKA0x4WsQ"
      },
      "source": [
        "#### Define a custom torch.nn.Module representing a dressed quantum circuit.\n",
        "\n",
        "This is a concatenation of:\n",
        "- A classical pre-processing layer (nn.Linear)\n",
        "- A classical activation function (torch.tanh)\n",
        "- A constant np.pi/2.0 scaling\n",
        "- The previously defined quantum circuit (quantum_net)\n",
        "- A classical post-processing layer (nn.Linear)\n",
        "\n",
        "The input of the module is a batch of vectors with 512 real parameters (features) and the output is a batch of vectors with two real outputs (associated with the two classes of images: face_mask and face_nomask)."
      ]
    },
    {
      "cell_type": "code",
      "execution_count": null,
      "metadata": {
        "id": "3ZZqCL3S4WsQ"
      },
      "outputs": [],
      "source": [
        "# 2nd - Prepare the Replacement Quantum Layer\n",
        "class DressedQuantumNet(nn.Module):\n",
        "    \"\"\"Torch module implementing the *dressed* quantum net.\"\"\"\n",
        "\n",
        "    def __init__(self):\n",
        "        super().__init__()\n",
        "        self.pre_net = nn.Linear(512, n_qubits)\n",
        "        self.q_params = nn.Parameter(q_delta * torch.randn(q_depth * n_qubits))\n",
        "        self.post_net = nn.Linear(n_qubits, 4)\n",
        "\n",
        "    def forward(self, input_features):\n",
        "        # obtain the input features for the quantum circuit by reducing the feature dimension from 512 to 4\n",
        "        pre_out = self.pre_net(input_features)\n",
        "        q_in = torch.tanh(pre_out) * np.pi / 2.0\n",
        "\n",
        "        # Apply the quantum circuit to each element of the batch and append to q_out\n",
        "        q_out = torch.Tensor(0, n_qubits)\n",
        "        q_out = q_out.to(device)\n",
        "        for elem in q_in:\n",
        "            q_out_elem = quantum_net(elem, self.q_params).float().unsqueeze(0)\n",
        "            q_out = torch.cat((q_out, q_out_elem))\n",
        "\n",
        "        # return the two-dimensional prediction from the postprocessing layer\n",
        "        return self.post_net(q_out)"
      ]
    },
    {
      "cell_type": "markdown",
      "metadata": {
        "id": "CoE_LpAD4WsR"
      },
      "source": [
        "#### Build a full hybrid classical-quantum network\n",
        "\n",
        "Following the transfer learning approach:\n",
        "\n",
        "- load the classical pre-trained network ResNet18 from the torchvision.models zoo\n",
        "- freeze all the weights since they should not be trained\n",
        "- replace the last fully connected layer with our trainable dressed quantum circuit (DressedQuantumNet)"
      ]
    },
    {
      "cell_type": "code",
      "execution_count": null,
      "metadata": {
        "colab": {
          "base_uri": "https://localhost:8080/",
          "height": 161,
          "referenced_widgets": [
            "a755f10857e94c80877486a53d12eebd",
            "2bfe4e4fff5745ad83b26f459582f265",
            "e8b0584a66c24364be9f5f12049acb3e",
            "2f6668fed079462c890f0f457d34e23e",
            "1ce8fe2b37b84195b02f4e41f982a42e",
            "e3ac21ffce2247e495adf572fe068f90",
            "a059a31193654a0ba96274072ead9642",
            "2129c461e5994514968c044f9caa8335",
            "155512db2d934f68abacba50746bf1b2",
            "475d6732c36a44d0bcc16f2d989e0271",
            "c1a2dde07bd149bbb134a385013e5e34"
          ]
        },
        "id": "gEdjX9n94WsR",
        "outputId": "643cc4a9-9dc4-429f-a112-343984d73d85"
      },
      "outputs": [
        {
          "output_type": "stream",
          "name": "stderr",
          "text": [
            "/usr/local/lib/python3.8/dist-packages/torchvision/models/_utils.py:208: UserWarning: The parameter 'pretrained' is deprecated since 0.13 and may be removed in the future, please use 'weights' instead.\n",
            "  warnings.warn(\n",
            "/usr/local/lib/python3.8/dist-packages/torchvision/models/_utils.py:223: UserWarning: Arguments other than a weight enum or `None` for 'weights' are deprecated since 0.13 and may be removed in the future. The current behavior is equivalent to passing `weights=ResNet18_Weights.IMAGENET1K_V1`. You can also use `weights=ResNet18_Weights.DEFAULT` to get the most up-to-date weights.\n",
            "  warnings.warn(msg)\n",
            "Downloading: \"https://download.pytorch.org/models/resnet18-f37072fd.pth\" to /root/.cache/torch/hub/checkpoints/resnet18-f37072fd.pth\n"
          ]
        },
        {
          "output_type": "display_data",
          "data": {
            "text/plain": [
              "  0%|          | 0.00/44.7M [00:00<?, ?B/s]"
            ],
            "application/vnd.jupyter.widget-view+json": {
              "version_major": 2,
              "version_minor": 0,
              "model_id": "a755f10857e94c80877486a53d12eebd"
            }
          },
          "metadata": {}
        }
      ],
      "source": [
        "# 3rd - Replace last layer of resnet-18 with defined quantum layer\n",
        "model_hybrid = torchvision.models.resnet18(pretrained=True)\n",
        "\n",
        "for param in model_hybrid.parameters():\n",
        "    param.requires_grad = False\n",
        "\n",
        "# Notice that model_hybrid.fc is the last layer of ResNet18\n",
        "model_hybrid.fc = DressedQuantumNet()\n",
        "\n",
        "# Use CUDA or CPU according to the \"device\" object.\n",
        "model_hybrid = model_hybrid.to(device)"
      ]
    },
    {
      "cell_type": "code",
      "execution_count": null,
      "metadata": {
        "id": "cIsbzqhE4WsR"
      },
      "outputs": [],
      "source": [
        "criterion = nn.CrossEntropyLoss()\n",
        "optimizer_hybrid = optim.Adam(model_hybrid.fc.parameters(), lr=step)\n",
        "exp_lr_scheduler = lr_scheduler.StepLR(optimizer_hybrid, step_size=70, gamma=gamma_lr_scheduler)"
      ]
    },
    {
      "cell_type": "markdown",
      "metadata": {
        "id": "grjxEkZE4WsR"
      },
      "source": [
        "# 2. Retrain"
      ]
    },
    {
      "cell_type": "markdown",
      "metadata": {
        "id": "ZKZ-q8wW4WsR"
      },
      "source": [
        "## Define how to retrain the DressedQuantumNet (last layer)"
      ]
    },
    {
      "cell_type": "code",
      "execution_count": null,
      "metadata": {
        "id": "kC5MtT7G4WsR"
      },
      "outputs": [],
      "source": [
        "def train_model(model, criterion, optimizer, scheduler, num_epochs, temp_model_name):\n",
        "    since = time.time()\n",
        "    best_model_wts = copy.deepcopy(model.state_dict())\n",
        "    best_acc = 0.0\n",
        "    best_loss = 10000.0  # Large arbitrary number\n",
        "    best_acc_train = 0.0\n",
        "    best_loss_train = 10000.0  # Large arbitrary number\n",
        "    \n",
        "    for epoch in range(num_epochs):\n",
        "        # Each epoch has a training and validation phase\n",
        "        for phase in [\"train\", \"val\"]:\n",
        "            if phase == \"train\":\n",
        "                # Set model to training mode\n",
        "                model.train()\n",
        "            else:\n",
        "                # Set model to evaluate mode\n",
        "                model.eval()\n",
        "            running_loss = 0.0\n",
        "            running_corrects = 0\n",
        "\n",
        "            # Iterate over data.\n",
        "            n_batches = dataset_sizes[phase] // batch_size\n",
        "            it = 0\n",
        "            for inputs, labels in dataloaders[phase]:\n",
        "                since_batch = time.time()\n",
        "                batch_size_ = len(inputs)\n",
        "                inputs = inputs.to(device)\n",
        "                labels = labels.to(device)\n",
        "                optimizer.zero_grad()\n",
        "\n",
        "                # Track/compute gradient and make an optimization step only when training\n",
        "                with torch.set_grad_enabled(phase == \"train\"):\n",
        "                    outputs = model(inputs)\n",
        "                    _, preds = torch.max(outputs, 1)\n",
        "                    loss = criterion(outputs, labels)\n",
        "                    if phase == \"train\":\n",
        "                        loss.backward()\n",
        "                        optimizer.step()\n",
        "\n",
        "                # Print iteration results\n",
        "                running_loss += loss.item() * batch_size_\n",
        "                batch_corrects = torch.sum(preds == labels.data).item()\n",
        "                running_corrects += batch_corrects\n",
        "                message = \"     > Phase: {} Epoch: {}/{} Iter: {}/{} Batch time: {:.4f}\".format(\n",
        "                                    phase,\n",
        "                                    epoch + 1,\n",
        "                                    num_epochs,\n",
        "                                    it + 1,\n",
        "                                    n_batches + 1,\n",
        "                                    time.time() - since_batch,\n",
        "                                 )\n",
        "                # Print to screen with flush=True \n",
        "                print(message,\n",
        "                        end=\"\\r\",\n",
        "                        flush=True,\n",
        "                )\n",
        "                it += 1\n",
        "\n",
        "            # Print epoch results\n",
        "            epoch_loss = running_loss / dataset_sizes[phase]\n",
        "            epoch_acc = running_corrects / dataset_sizes[phase]\n",
        "            message = \"     > Phase: {} Epoch: {}/{} Loss: {:.4f} Acc: {:.4f}\".format(\n",
        "                                \"train\" if phase == \"train\" else \"val  \",\n",
        "                                epoch + 1,\n",
        "                                num_epochs,\n",
        "                                epoch_loss,\n",
        "                                epoch_acc,\n",
        "                            )\n",
        "\n",
        "            # Check if this is the best model wrt previous epochs\n",
        "            if phase == \"val\" and epoch_acc > best_acc:\n",
        "                best_acc = epoch_acc\n",
        "                best_model_wts = copy.deepcopy(model.state_dict())\n",
        "            if phase == \"val\" and epoch_loss < best_loss:\n",
        "                best_loss = epoch_loss\n",
        "            if phase == \"train\" and epoch_acc > best_acc_train:\n",
        "                best_acc_train = epoch_acc\n",
        "            if phase == \"train\" and epoch_loss < best_loss_train:\n",
        "                best_loss_train = epoch_loss\n",
        "\n",
        "            train_Acc = \"{:.4f}\".format(best_acc_train)\n",
        "            train_Loss = \"{:.4f}\".format(best_loss_train)\n",
        "            val_Acc = \"{:.4f}\".format(best_acc)\n",
        "            val_Loss = \"{:.4f}\".format(best_loss)\n",
        "            \n",
        "            # Update learning rate\n",
        "            if phase == \"train\":\n",
        "                scheduler.step()\n",
        "        \n",
        "        # save the retrained model at this epoch completion epoch is saved as epoch+1 (so to start at 1 instead of 0)\n",
        "        model_at_epoch = temp_model_name + \"-at-epoch-\"+ str(epoch+1) \\\n",
        "            + \"(\" + str(num_epochs) + \")-\" + now_str + model_fileext\n",
        "        torch.save(model_hybrid.state_dict(), model_at_epoch)\n",
        "        \n",
        "        # save results of trained model at this epoch\n",
        "        # append list of \"epoch, train accuracy, train loss, val accuracy, val loss\" per epoch completion\n",
        "        # accumulate in train_val_results\n",
        "        if epoch==0:\n",
        "            # create first row\n",
        "            train_val_results = np.array([[epoch+1, best_acc_train, best_loss_train, best_acc, best_loss]])\n",
        "        else:\n",
        "            train_result_at_epoch = np.array([[epoch+1, best_acc_train, best_loss_train, best_acc, best_loss]])\n",
        "            # append new row\n",
        "            train_val_results = np.append(train_val_results, train_result_at_epoch, axis=0) \n",
        "        \n",
        "    # Write train_val_results to file\n",
        "    np.save(train_val_filename, train_val_results)\n",
        "    \n",
        "    # Print final results\n",
        "    model.load_state_dict(best_model_wts)\n",
        "    time_elapsed = time.time() - since\n",
        "    total_training_time = \"{:.0f}m {:.0f}s\".format(time_elapsed // 60, time_elapsed % 60)\n",
        "    total_training_time = \"{:.0f}m {:.0f}s\".format(time_elapsed // 60, time_elapsed % 60)\n",
        "    return model, total_training_time, train_Acc, train_Loss, val_Acc, val_Loss, train_val_results"
      ]
    },
    {
      "cell_type": "code",
      "execution_count": null,
      "metadata": {
        "colab": {
          "base_uri": "https://localhost:8080/"
        },
        "id": "CZSJdl1ZfIQo",
        "outputId": "27fa1659-ebc4-4e1f-a1ac-b0884629effa"
      },
      "outputs": [
        {
          "output_type": "stream",
          "name": "stdout",
          "text": [
            "ResNet(\n",
            "  (conv1): Conv2d(3, 64, kernel_size=(7, 7), stride=(2, 2), padding=(3, 3), bias=False)\n",
            "  (bn1): BatchNorm2d(64, eps=1e-05, momentum=0.1, affine=True, track_running_stats=True)\n",
            "  (relu): ReLU(inplace=True)\n",
            "  (maxpool): MaxPool2d(kernel_size=3, stride=2, padding=1, dilation=1, ceil_mode=False)\n",
            "  (layer1): Sequential(\n",
            "    (0): BasicBlock(\n",
            "      (conv1): Conv2d(64, 64, kernel_size=(3, 3), stride=(1, 1), padding=(1, 1), bias=False)\n",
            "      (bn1): BatchNorm2d(64, eps=1e-05, momentum=0.1, affine=True, track_running_stats=True)\n",
            "      (relu): ReLU(inplace=True)\n",
            "      (conv2): Conv2d(64, 64, kernel_size=(3, 3), stride=(1, 1), padding=(1, 1), bias=False)\n",
            "      (bn2): BatchNorm2d(64, eps=1e-05, momentum=0.1, affine=True, track_running_stats=True)\n",
            "    )\n",
            "    (1): BasicBlock(\n",
            "      (conv1): Conv2d(64, 64, kernel_size=(3, 3), stride=(1, 1), padding=(1, 1), bias=False)\n",
            "      (bn1): BatchNorm2d(64, eps=1e-05, momentum=0.1, affine=True, track_running_stats=True)\n",
            "      (relu): ReLU(inplace=True)\n",
            "      (conv2): Conv2d(64, 64, kernel_size=(3, 3), stride=(1, 1), padding=(1, 1), bias=False)\n",
            "      (bn2): BatchNorm2d(64, eps=1e-05, momentum=0.1, affine=True, track_running_stats=True)\n",
            "    )\n",
            "  )\n",
            "  (layer2): Sequential(\n",
            "    (0): BasicBlock(\n",
            "      (conv1): Conv2d(64, 128, kernel_size=(3, 3), stride=(2, 2), padding=(1, 1), bias=False)\n",
            "      (bn1): BatchNorm2d(128, eps=1e-05, momentum=0.1, affine=True, track_running_stats=True)\n",
            "      (relu): ReLU(inplace=True)\n",
            "      (conv2): Conv2d(128, 128, kernel_size=(3, 3), stride=(1, 1), padding=(1, 1), bias=False)\n",
            "      (bn2): BatchNorm2d(128, eps=1e-05, momentum=0.1, affine=True, track_running_stats=True)\n",
            "      (downsample): Sequential(\n",
            "        (0): Conv2d(64, 128, kernel_size=(1, 1), stride=(2, 2), bias=False)\n",
            "        (1): BatchNorm2d(128, eps=1e-05, momentum=0.1, affine=True, track_running_stats=True)\n",
            "      )\n",
            "    )\n",
            "    (1): BasicBlock(\n",
            "      (conv1): Conv2d(128, 128, kernel_size=(3, 3), stride=(1, 1), padding=(1, 1), bias=False)\n",
            "      (bn1): BatchNorm2d(128, eps=1e-05, momentum=0.1, affine=True, track_running_stats=True)\n",
            "      (relu): ReLU(inplace=True)\n",
            "      (conv2): Conv2d(128, 128, kernel_size=(3, 3), stride=(1, 1), padding=(1, 1), bias=False)\n",
            "      (bn2): BatchNorm2d(128, eps=1e-05, momentum=0.1, affine=True, track_running_stats=True)\n",
            "    )\n",
            "  )\n",
            "  (layer3): Sequential(\n",
            "    (0): BasicBlock(\n",
            "      (conv1): Conv2d(128, 256, kernel_size=(3, 3), stride=(2, 2), padding=(1, 1), bias=False)\n",
            "      (bn1): BatchNorm2d(256, eps=1e-05, momentum=0.1, affine=True, track_running_stats=True)\n",
            "      (relu): ReLU(inplace=True)\n",
            "      (conv2): Conv2d(256, 256, kernel_size=(3, 3), stride=(1, 1), padding=(1, 1), bias=False)\n",
            "      (bn2): BatchNorm2d(256, eps=1e-05, momentum=0.1, affine=True, track_running_stats=True)\n",
            "      (downsample): Sequential(\n",
            "        (0): Conv2d(128, 256, kernel_size=(1, 1), stride=(2, 2), bias=False)\n",
            "        (1): BatchNorm2d(256, eps=1e-05, momentum=0.1, affine=True, track_running_stats=True)\n",
            "      )\n",
            "    )\n",
            "    (1): BasicBlock(\n",
            "      (conv1): Conv2d(256, 256, kernel_size=(3, 3), stride=(1, 1), padding=(1, 1), bias=False)\n",
            "      (bn1): BatchNorm2d(256, eps=1e-05, momentum=0.1, affine=True, track_running_stats=True)\n",
            "      (relu): ReLU(inplace=True)\n",
            "      (conv2): Conv2d(256, 256, kernel_size=(3, 3), stride=(1, 1), padding=(1, 1), bias=False)\n",
            "      (bn2): BatchNorm2d(256, eps=1e-05, momentum=0.1, affine=True, track_running_stats=True)\n",
            "    )\n",
            "  )\n",
            "  (layer4): Sequential(\n",
            "    (0): BasicBlock(\n",
            "      (conv1): Conv2d(256, 512, kernel_size=(3, 3), stride=(2, 2), padding=(1, 1), bias=False)\n",
            "      (bn1): BatchNorm2d(512, eps=1e-05, momentum=0.1, affine=True, track_running_stats=True)\n",
            "      (relu): ReLU(inplace=True)\n",
            "      (conv2): Conv2d(512, 512, kernel_size=(3, 3), stride=(1, 1), padding=(1, 1), bias=False)\n",
            "      (bn2): BatchNorm2d(512, eps=1e-05, momentum=0.1, affine=True, track_running_stats=True)\n",
            "      (downsample): Sequential(\n",
            "        (0): Conv2d(256, 512, kernel_size=(1, 1), stride=(2, 2), bias=False)\n",
            "        (1): BatchNorm2d(512, eps=1e-05, momentum=0.1, affine=True, track_running_stats=True)\n",
            "      )\n",
            "    )\n",
            "    (1): BasicBlock(\n",
            "      (conv1): Conv2d(512, 512, kernel_size=(3, 3), stride=(1, 1), padding=(1, 1), bias=False)\n",
            "      (bn1): BatchNorm2d(512, eps=1e-05, momentum=0.1, affine=True, track_running_stats=True)\n",
            "      (relu): ReLU(inplace=True)\n",
            "      (conv2): Conv2d(512, 512, kernel_size=(3, 3), stride=(1, 1), padding=(1, 1), bias=False)\n",
            "      (bn2): BatchNorm2d(512, eps=1e-05, momentum=0.1, affine=True, track_running_stats=True)\n",
            "    )\n",
            "  )\n",
            "  (avgpool): AdaptiveAvgPool2d(output_size=(1, 1))\n",
            "  (fc): DressedQuantumNet(\n",
            "    (pre_net): Linear(in_features=512, out_features=8, bias=True)\n",
            "    (post_net): Linear(in_features=8, out_features=4, bias=True)\n",
            "  )\n",
            ")\n"
          ]
        }
      ],
      "source": [
        "print(model_hybrid)"
      ]
    },
    {
      "cell_type": "markdown",
      "metadata": {
        "id": "W515un9p4WsS"
      },
      "source": [
        "## Re-train the quantum layer\n",
        "\n",
        "---\n",
        "\n"
      ]
    },
    {
      "cell_type": "code",
      "execution_count": null,
      "metadata": {
        "colab": {
          "base_uri": "https://localhost:8080/"
        },
        "id": "wSIFRUa64WsS",
        "outputId": "b26102cf-f6d7-4336-bfec-ee2ac8488854"
      },
      "outputs": [
        {
          "output_type": "stream",
          "name": "stdout",
          "text": []
        }
      ],
      "source": [
        "model_hybrid, total_training_time, train_Acc, train_Loss, val_Acc, val_Loss, train_val_results = train_model(\n",
        "    model_hybrid, criterion, optimizer_hybrid, exp_lr_scheduler, num_epochs=num_epochs, temp_model_name = interim_model_name)"
      ]
    },
    {
      "cell_type": "code",
      "execution_count": null,
      "metadata": {
        "id": "KLWQ3uQ24WsS"
      },
      "outputs": [],
      "source": [
        "# SAVE final retrained Resnet-18 model\n",
        "torch.save(model_hybrid.state_dict(), hybrid_model_name)"
      ]
    },
    {
      "cell_type": "code",
      "execution_count": null,
      "metadata": {
        "id": "JzWx6VGW4WsS"
      },
      "outputs": [],
      "source": [
        "# PRINT training summary \n",
        "from prettytable import PrettyTable\n",
        "    \n",
        "t_summary = PrettyTable()\n",
        "t_summary.field_names = [\"QC backend\", \"epoch\", \"batch size\", \\\n",
        "    \"train time\", \"train Acc\", \"train Loss\", \"val Acc\", \"val Loss\"]\n",
        "t_summary.add_row([backend_name, num_epochs, batch_size, \\\n",
        "    total_training_time, train_Acc, train_Loss, val_Acc, val_Loss])"
      ]
    },
    {
      "cell_type": "code",
      "execution_count": null,
      "metadata": {
        "id": "1fM_nHTz4WsT",
        "colab": {
          "base_uri": "https://localhost:8080/"
        },
        "outputId": "c217a787-a3ac-4445-d02e-d7612c92a190"
      },
      "outputs": [
        {
          "output_type": "stream",
          "name": "stdout",
          "text": [
            "[1.         0.56674907 1.11439658 0.60891089 0.9726367 ]\n",
            "[2.         0.66563659 0.93100589 0.69554455 0.87740611]\n",
            "[3.         0.72311496 0.83001712 0.71534653 0.75902646]\n",
            "[4.         0.75216316 0.74698395 0.75247525 0.71433071]\n",
            "[5.         0.78924598 0.67362294 0.81930693 0.59591263]\n",
            "[6.         0.81458591 0.60638747 0.81930693 0.59591263]\n",
            "[7.         0.81458591 0.60635099 0.81930693 0.59591263]\n",
            "[8.         0.82385661 0.56642953 0.82178218 0.54793669]\n",
            "[9.         0.83127318 0.54407259 0.83168317 0.50925506]\n",
            "[10.          0.83127318  0.53837888  0.85891089  0.48089526]\n",
            "[11.          0.84301607  0.47888079  0.85891089  0.47947799]\n",
            "[12.          0.84301607  0.47888079  0.85891089  0.46703798]\n",
            "[13.          0.84301607  0.47888079  0.85891089  0.46703798]\n",
            "[14.          0.84301607  0.47888079  0.85891089  0.46703798]\n",
            "[15.          0.84301607  0.463346    0.85891089  0.46703798]\n",
            "[16.          0.86279357  0.41558668  0.85891089  0.46703798]\n",
            "[17.          0.86279357  0.41558668  0.85891089  0.46703798]\n",
            "[18.          0.86279357  0.41558668  0.85891089  0.46703798]\n",
            "[19.          0.86279357  0.41325289  0.85891089  0.46703798]\n",
            "[20.          0.86341162  0.39635898  0.85891089  0.46703798]\n",
            "[21.          0.86959209  0.39635898  0.85891089  0.43094755]\n",
            "[22.          0.86959209  0.39103866  0.85891089  0.43094755]\n",
            "[23.          0.87886279  0.35527754  0.85891089  0.43094755]\n",
            "[24.          0.87886279  0.35527754  0.85891089  0.43094755]\n",
            "[25.          0.87886279  0.35527754  0.85891089  0.43094755]\n",
            "[26.          0.88009889  0.34087377  0.85891089  0.43094755]\n",
            "[27.          0.88009889  0.34087377  0.85891089  0.43094755]\n",
            "[28.          0.88009889  0.34087377  0.85891089  0.43094755]\n",
            "[29.          0.88009889  0.34087377  0.85891089  0.43094755]\n",
            "[30.          0.88009889  0.34087377  0.85891089  0.43094755]\n",
            "[31.          0.88009889  0.34087377  0.85891089  0.43094755]\n",
            "[32.          0.88009889  0.34087377  0.85891089  0.43094755]\n",
            "[33.          0.88009889  0.34087377  0.85891089  0.43094755]\n",
            "[34.          0.88009889  0.34087377  0.85891089  0.42742294]\n",
            "[35.          0.88009889  0.33530962  0.85891089  0.42742294]\n",
            "[36.          0.88380717  0.33530962  0.85891089  0.42742294]\n",
            "[37.          0.88442522  0.32811932  0.85891089  0.42742294]\n",
            "[38.          0.88442522  0.32811932  0.85891089  0.42742294]\n",
            "[39.          0.8868974   0.32811932  0.85891089  0.42742294]\n",
            "[40.          0.8868974   0.32811932  0.85891089  0.42742294]\n",
            "[41.          0.8868974   0.32811932  0.85891089  0.42742294]\n",
            "[42.          0.89122373  0.3113189   0.85891089  0.42742294]\n",
            "[43.          0.89122373  0.3113189   0.85891089  0.42742294]\n",
            "[44.          0.89122373  0.30610787  0.85891089  0.42742294]\n",
            "[45.          0.89122373  0.30610787  0.85891089  0.42742294]\n",
            "[46.          0.89925834  0.28603069  0.85891089  0.42742294]\n",
            "[47.          0.89925834  0.28603069  0.85891089  0.42742294]\n",
            "[48.          0.89925834  0.28603069  0.85891089  0.42742294]\n",
            "[49.          0.89925834  0.28603069  0.85891089  0.42742294]\n",
            "[50.          0.89925834  0.28603069  0.85891089  0.42742294]\n",
            "[51.          0.90543881  0.27921279  0.85891089  0.42742294]\n",
            "[52.          0.90543881  0.27921279  0.85891089  0.42742294]\n",
            "[53.          0.90543881  0.27055133  0.85891089  0.42742294]\n",
            "[54.          0.90543881  0.27055133  0.85891089  0.42742294]\n",
            "[55.          0.90543881  0.27055133  0.85891089  0.42742294]\n",
            "[56.          0.90543881  0.27055133  0.85891089  0.42742294]\n",
            "[57.          0.90543881  0.27055133  0.85891089  0.42742294]\n",
            "[58.          0.90543881  0.27055133  0.85891089  0.42742294]\n",
            "[59.          0.90543881  0.27055133  0.85891089  0.42742294]\n",
            "[60.          0.90543881  0.27055133  0.85891089  0.42742294]\n",
            "[61.          0.90543881  0.27055133  0.85891089  0.42742294]\n",
            "[62.          0.90543881  0.27055133  0.85891089  0.42742294]\n",
            "[63.          0.90543881  0.27055133  0.85891089  0.42742294]\n",
            "[64.          0.90543881  0.27055133  0.85891089  0.42742294]\n",
            "[65.          0.90543881  0.27055133  0.85891089  0.42742294]\n",
            "[66.          0.90543881  0.27055133  0.85891089  0.42742294]\n",
            "[67.          0.90543881  0.27055133  0.85891089  0.42742294]\n",
            "[68.          0.90543881  0.27055133  0.85891089  0.42742294]\n",
            "[69.          0.90543881  0.27055133  0.85891089  0.42742294]\n",
            "[70.          0.90543881  0.27055133  0.85891089  0.42742294]\n"
          ]
        }
      ],
      "source": [
        "for x in train_val_results:\n",
        "    print(x)"
      ]
    },
    {
      "cell_type": "code",
      "execution_count": null,
      "metadata": {
        "id": "TwlIin2R4WsT"
      },
      "outputs": [],
      "source": [
        "epoch = []\n",
        "train_acc = []\n",
        "train_loss = []\n",
        "val_acc =[]\n",
        "val_loss = []\n",
        "\n",
        "for i in range(0, len(train_val_results)):\n",
        "    epoch = np.append(epoch, train_val_results[i,0])\n",
        "    train_acc = np.append(train_acc, train_val_results[i,1])\n",
        "    train_loss = np.append(train_loss, train_val_results[i,2])    \n",
        "    val_acc = np.append(val_acc, train_val_results[i,3])\n",
        "    val_loss = np.append(val_loss, train_val_results[i,4])    "
      ]
    },
    {
      "cell_type": "code",
      "execution_count": null,
      "metadata": {
        "id": "CZujqP2F4WsT",
        "colab": {
          "base_uri": "https://localhost:8080/",
          "height": 295
        },
        "outputId": "f2179bc2-b1d1-4926-cfe0-7800f8131852"
      },
      "outputs": [
        {
          "output_type": "display_data",
          "data": {
            "text/plain": [
              "<Figure size 432x288 with 1 Axes>"
            ],
            "image/png": "[encoded data removed]"
          },
          "metadata": {
            "needs_background": "light"
          }
        }
      ],
      "source": [
        "# PLOT graph - training/validation accuracy, loss\n",
        "x1 = epoch\n",
        "x2 = epoch\n",
        "y1 = train_acc\n",
        "y2 = val_acc\n",
        "\n",
        "# plt.subplot(2, 1, 1)\n",
        "plt.plot(x1, y1, 'o-')\n",
        "plt.title('Training Summary: ' + backend_name)\n",
        "plt.ylabel('train/val accuracy')\n",
        "\n",
        "# plt.subplot(2, 1, 2)\n",
        "plt.plot(x2, y2, '.-')\n",
        "plt.xlabel('Epoch')\n",
        "# plt.ylabel('train/val accuracy')\n",
        "\n",
        "plt.legend([\"train accuracy\",\"val accuracy\"])\n",
        "plt.show()"
      ]
    },
    {
      "cell_type": "code",
      "execution_count": null,
      "metadata": {
        "id": "_mD48Ev_4WsT",
        "colab": {
          "base_uri": "https://localhost:8080/",
          "height": 295
        },
        "outputId": "d8614e56-10b4-4c4c-84ba-e772024838cf"
      },
      "outputs": [
        {
          "output_type": "display_data",
          "data": {
            "text/plain": [
              "<Figure size 432x288 with 1 Axes>"
            ],
            "image/png": "[encoded data removed]"
          },
          "metadata": {
            "needs_background": "light"
          }
        }
      ],
      "source": [
        "# PLOT graph - training/validation accuracy, loss\n",
        "y1 = train_loss\n",
        "y2 = val_loss\n",
        "\n",
        "# plt.subplot(2, 1, 1)\n",
        "plt.plot(x1, y1, 'o-')\n",
        "plt.title('Training Summary: ' + backend_name)\n",
        "plt.ylabel('train/val loss')\n",
        "\n",
        "# plt.subplot(2, 1, 2)\n",
        "plt.plot(x2, y2, '.-')\n",
        "plt.xlabel('Epoch')\n",
        "# plt.ylabel('train/val loss')\n",
        "\n",
        "plt.legend([\"train loss\",\"val loss\"])\n",
        "plt.show()"
      ]
    },
    {
      "cell_type": "code",
      "execution_count": null,
      "metadata": {
        "id": "l2_-GLx84WsT"
      },
      "outputs": [],
      "source": [
        "# INSPECT the retrained Resnet-18 model neural network architecture\n",
        "# -----------------------------------------------------------------\n",
        "model_arch = model_hybrid.eval()"
      ]
    },
    {
      "cell_type": "markdown",
      "metadata": {
        "id": "4FVn8gz_4WsU"
      },
      "source": [
        "# 3. Test/Predict using the re-trained model"
      ]
    },
    {
      "cell_type": "code",
      "execution_count": null,
      "metadata": {
        "id": "IteZFe9w4WsU"
      },
      "outputs": [],
      "source": [
        "def visualize_model(model, num_images=1, fig_name=\"Predictions\"):\n",
        "    images_so_far = 0\n",
        "    _fig = plt.figure(fig_name, figsize=(15,15))\n",
        "    model.eval()\n",
        "    with torch.no_grad(): # inferencing\n",
        "        for _i, (inputs, labels) in enumerate(dataloaders[\"val\"]):\n",
        "            inputs = inputs.to(device)\n",
        "            labels = labels.to(device)\n",
        "            outputs = model(inputs)\n",
        "            # Expectation value is probabilistic expected value of the result (measurement) of an experiment\n",
        "            # Pennylane implements the quantum measurement in such a way that:\n",
        "            #  - if the first qubit is non zero, it puts negative to the measurement\n",
        "            # expvals is expectation value of predicted class\n",
        "            expvals, preds = torch.max(outputs, 1)\n",
        "            # expvals_min is expectation value of another class as we only have 2 image classes/categories here\n",
        "            expvals_min, preds_min = torch.min(outputs, 1)\n",
        "            for j in range(inputs.size()[0]):\n",
        "                images_so_far += 1\n",
        "                ax = plt.subplot(num_images // 1, 1, images_so_far)\n",
        "                ax.axis(\"off\")\n",
        "                title = \"Detected as <\" + class_names[preds[j]] + \">, Expectation Value: \" + \\\n",
        "                    \"{:.5f}\".format(expvals[j]) + \" (\" + \\\n",
        "                    \"{:.5f}\".format(expvals_min[j]) + \")\" \n",
        "                ax.set_title(\"[{}]\".format(title))\n",
        "                imshow(inputs.cpu().data[j])\n",
        "                if images_so_far == num_images:\n",
        "                    return"
      ]
    },
    {
      "cell_type": "code",
      "execution_count": null,
      "metadata": {
        "id": "dhuWpvC84WsU",
        "colab": {
          "base_uri": "https://localhost:8080/",
          "height": 862
        },
        "outputId": "bb17dc14-e102-4b5b-ee86-789f48db7ba1"
      },
      "outputs": [
        {
          "output_type": "display_data",
          "data": {
            "text/plain": [
              "<Figure size 1080x1080 with 1 Axes>"
            ],
            "image/png": "[encoded data removed]"
          },
          "metadata": {
            "needs_background": "light"
          }
        }
      ],
      "source": [
        "visualize_model(model_hybrid, num_images=1, fig_name=\"Predictions\")\n",
        "plt.show()"
      ]
    }
  ],
  "metadata": {
    "accelerator": "GPU",
    "colab": {
      "provenance": [],
      "machine_shape": "hm"
    },
    "gpuClass": "premium",
    "kernelspec": {
      "display_name": "Python 3 (ipykernel)",
      "language": "python",
      "name": "python3"
    },
    "language_info": {
      "codemirror_mode": {
        "name": "ipython",
        "version": 3
      },
      "file_extension": ".py",
      "mimetype": "text/x-python",
      "name": "python",
      "nbconvert_exporter": "python",
      "pygments_lexer": "ipython3",
      "version": "3.9.10"
    },
    "widgets": {
      "application/vnd.jupyter.widget-state+json": {
        "a755f10857e94c80877486a53d12eebd": {
          "model_module": "@jupyter-widgets/controls",
          "model_name": "HBoxModel",
          "model_module_version": "1.5.0",
          "state": {
            "_dom_classes": [],
            "_model_module": "@jupyter-widgets/controls",
            "_model_module_version": "1.5.0",
            "_model_name": "HBoxModel",
            "_view_count": null,
            "_view_module": "@jupyter-widgets/controls",
            "_view_module_version": "1.5.0",
            "_view_name": "HBoxView",
            "box_style": "",
            "children": [
              "IPY_MODEL_2bfe4e4fff5745ad83b26f459582f265",
              "IPY_MODEL_e8b0584a66c24364be9f5f12049acb3e",
              "IPY_MODEL_2f6668fed079462c890f0f457d34e23e"
            ],
            "layout": "IPY_MODEL_1ce8fe2b37b84195b02f4e41f982a42e"
          }
        },
        "2bfe4e4fff5745ad83b26f459582f265": {
          "model_module": "@jupyter-widgets/controls",
          "model_name": "HTMLModel",
          "model_module_version": "1.5.0",
          "state": {
            "_dom_classes": [],
            "_model_module": "@jupyter-widgets/controls",
            "_model_module_version": "1.5.0",
            "_model_name": "HTMLModel",
            "_view_count": null,
            "_view_module": "@jupyter-widgets/controls",
            "_view_module_version": "1.5.0",
            "_view_name": "HTMLView",
            "description": "",
            "description_tooltip": null,
            "layout": "IPY_MODEL_e3ac21ffce2247e495adf572fe068f90",
            "placeholder": "​",
            "style": "IPY_MODEL_a059a31193654a0ba96274072ead9642",
            "value": "100%"
          }
        },
        "e8b0584a66c24364be9f5f12049acb3e": {
          "model_module": "@jupyter-widgets/controls",
          "model_name": "FloatProgressModel",
          "model_module_version": "1.5.0",
          "state": {
            "_dom_classes": [],
            "_model_module": "@jupyter-widgets/controls",
            "_model_module_version": "1.5.0",
            "_model_name": "FloatProgressModel",
            "_view_count": null,
            "_view_module": "@jupyter-widgets/controls",
            "_view_module_version": "1.5.0",
            "_view_name": "ProgressView",
            "bar_style": "success",
            "description": "",
            "description_tooltip": null,
            "layout": "IPY_MODEL_2129c461e5994514968c044f9caa8335",
            "max": 46830571,
            "min": 0,
            "orientation": "horizontal",
            "style": "IPY_MODEL_155512db2d934f68abacba50746bf1b2",
            "value": 46830571
          }
        },
        "2f6668fed079462c890f0f457d34e23e": {
          "model_module": "@jupyter-widgets/controls",
          "model_name": "HTMLModel",
          "model_module_version": "1.5.0",
          "state": {
            "_dom_classes": [],
            "_model_module": "@jupyter-widgets/controls",
            "_model_module_version": "1.5.0",
            "_model_name": "HTMLModel",
            "_view_count": null,
            "_view_module": "@jupyter-widgets/controls",
            "_view_module_version": "1.5.0",
            "_view_name": "HTMLView",
            "description": "",
            "description_tooltip": null,
            "layout": "IPY_MODEL_475d6732c36a44d0bcc16f2d989e0271",
            "placeholder": "​",
            "style": "IPY_MODEL_c1a2dde07bd149bbb134a385013e5e34",
            "value": " 44.7M/44.7M [00:02&lt;00:00, 17.2MB/s]"
          }
        },
        "1ce8fe2b37b84195b02f4e41f982a42e": {
          "model_module": "@jupyter-widgets/base",
          "model_name": "LayoutModel",
          "model_module_version": "1.2.0",
          "state": {
            "_model_module": "@jupyter-widgets/base",
            "_model_module_version": "1.2.0",
            "_model_name": "LayoutModel",
            "_view_count": null,
            "_view_module": "@jupyter-widgets/base",
            "_view_module_version": "1.2.0",
            "_view_name": "LayoutView",
            "align_content": null,
            "align_items": null,
            "align_self": null,
            "border": null,
            "bottom": null,
            "display": null,
            "flex": null,
            "flex_flow": null,
            "grid_area": null,
            "grid_auto_columns": null,
            "grid_auto_flow": null,
            "grid_auto_rows": null,
            "grid_column": null,
            "grid_gap": null,
            "grid_row": null,
            "grid_template_areas": null,
            "grid_template_columns": null,
            "grid_template_rows": null,
            "height": null,
            "justify_content": null,
            "justify_items": null,
            "left": null,
            "margin": null,
            "max_height": null,
            "max_width": null,
            "min_height": null,
            "min_width": null,
            "object_fit": null,
            "object_position": null,
            "order": null,
            "overflow": null,
            "overflow_x": null,
            "overflow_y": null,
            "padding": null,
            "right": null,
            "top": null,
            "visibility": null,
            "width": null
          }
        },
        "e3ac21ffce2247e495adf572fe068f90": {
          "model_module": "@jupyter-widgets/base",
          "model_name": "LayoutModel",
          "model_module_version": "1.2.0",
          "state": {
            "_model_module": "@jupyter-widgets/base",
            "_model_module_version": "1.2.0",
            "_model_name": "LayoutModel",
            "_view_count": null,
            "_view_module": "@jupyter-widgets/base",
            "_view_module_version": "1.2.0",
            "_view_name": "LayoutView",
            "align_content": null,
            "align_items": null,
            "align_self": null,
            "border": null,
            "bottom": null,
            "display": null,
            "flex": null,
            "flex_flow": null,
            "grid_area": null,
            "grid_auto_columns": null,
            "grid_auto_flow": null,
            "grid_auto_rows": null,
            "grid_column": null,
            "grid_gap": null,
            "grid_row": null,
            "grid_template_areas": null,
            "grid_template_columns": null,
            "grid_template_rows": null,
            "height": null,
            "justify_content": null,
            "justify_items": null,
            "left": null,
            "margin": null,
            "max_height": null,
            "max_width": null,
            "min_height": null,
            "min_width": null,
            "object_fit": null,
            "object_position": null,
            "order": null,
            "overflow": null,
            "overflow_x": null,
            "overflow_y": null,
            "padding": null,
            "right": null,
            "top": null,
            "visibility": null,
            "width": null
          }
        },
        "a059a31193654a0ba96274072ead9642": {
          "model_module": "@jupyter-widgets/controls",
          "model_name": "DescriptionStyleModel",
          "model_module_version": "1.5.0",
          "state": {
            "_model_module": "@jupyter-widgets/controls",
            "_model_module_version": "1.5.0",
            "_model_name": "DescriptionStyleModel",
            "_view_count": null,
            "_view_module": "@jupyter-widgets/base",
            "_view_module_version": "1.2.0",
            "_view_name": "StyleView",
            "description_width": ""
          }
        },
        "2129c461e5994514968c044f9caa8335": {
          "model_module": "@jupyter-widgets/base",
          "model_name": "LayoutModel",
          "model_module_version": "1.2.0",
          "state": {
            "_model_module": "@jupyter-widgets/base",
            "_model_module_version": "1.2.0",
            "_model_name": "LayoutModel",
            "_view_count": null,
            "_view_module": "@jupyter-widgets/base",
            "_view_module_version": "1.2.0",
            "_view_name": "LayoutView",
            "align_content": null,
            "align_items": null,
            "align_self": null,
            "border": null,
            "bottom": null,
            "display": null,
            "flex": null,
            "flex_flow": null,
            "grid_area": null,
            "grid_auto_columns": null,
            "grid_auto_flow": null,
            "grid_auto_rows": null,
            "grid_column": null,
            "grid_gap": null,
            "grid_row": null,
            "grid_template_areas": null,
            "grid_template_columns": null,
            "grid_template_rows": null,
            "height": null,
            "justify_content": null,
            "justify_items": null,
            "left": null,
            "margin": null,
            "max_height": null,
            "max_width": null,
            "min_height": null,
            "min_width": null,
            "object_fit": null,
            "object_position": null,
            "order": null,
            "overflow": null,
            "overflow_x": null,
            "overflow_y": null,
            "padding": null,
            "right": null,
            "top": null,
            "visibility": null,
            "width": null
          }
        },
        "155512db2d934f68abacba50746bf1b2": {
          "model_module": "@jupyter-widgets/controls",
          "model_name": "ProgressStyleModel",
          "model_module_version": "1.5.0",
          "state": {
            "_model_module": "@jupyter-widgets/controls",
            "_model_module_version": "1.5.0",
            "_model_name": "ProgressStyleModel",
            "_view_count": null,
            "_view_module": "@jupyter-widgets/base",
            "_view_module_version": "1.2.0",
            "_view_name": "StyleView",
            "bar_color": null,
            "description_width": ""
          }
        },
        "475d6732c36a44d0bcc16f2d989e0271": {
          "model_module": "@jupyter-widgets/base",
          "model_name": "LayoutModel",
          "model_module_version": "1.2.0",
          "state": {
            "_model_module": "@jupyter-widgets/base",
            "_model_module_version": "1.2.0",
            "_model_name": "LayoutModel",
            "_view_count": null,
            "_view_module": "@jupyter-widgets/base",
            "_view_module_version": "1.2.0",
            "_view_name": "LayoutView",
            "align_content": null,
            "align_items": null,
            "align_self": null,
            "border": null,
            "bottom": null,
            "display": null,
            "flex": null,
            "flex_flow": null,
            "grid_area": null,
            "grid_auto_columns": null,
            "grid_auto_flow": null,
            "grid_auto_rows": null,
            "grid_column": null,
            "grid_gap": null,
            "grid_row": null,
            "grid_template_areas": null,
            "grid_template_columns": null,
            "grid_template_rows": null,
            "height": null,
            "justify_content": null,
            "justify_items": null,
            "left": null,
            "margin": null,
            "max_height": null,
            "max_width": null,
            "min_height": null,
            "min_width": null,
            "object_fit": null,
            "object_position": null,
            "order": null,
            "overflow": null,
            "overflow_x": null,
            "overflow_y": null,
            "padding": null,
            "right": null,
            "top": null,
            "visibility": null,
            "width": null
          }
        },
        "c1a2dde07bd149bbb134a385013e5e34": {
          "model_module": "@jupyter-widgets/controls",
          "model_name": "DescriptionStyleModel",
          "model_module_version": "1.5.0",
          "state": {
            "_model_module": "@jupyter-widgets/controls",
            "_model_module_version": "1.5.0",
            "_model_name": "DescriptionStyleModel",
            "_view_count": null,
            "_view_module": "@jupyter-widgets/base",
            "_view_module_version": "1.2.0",
            "_view_name": "StyleView",
            "description_width": ""
          }
        }
      }
    }
  },
  "nbformat": 4,
  "nbformat_minor": 0
}